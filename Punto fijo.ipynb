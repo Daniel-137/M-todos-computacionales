{
 "cells": [
  {
   "cell_type": "markdown",
   "metadata": {},
   "source": [
    "## Punto fijo"
   ]
  },
  {
   "cell_type": "code",
   "execution_count": 1,
   "metadata": {
    "collapsed": false
   },
   "outputs": [
    {
     "name": "stdout",
     "output_type": "stream",
     "text": [
      "Populating the interactive namespace from numpy and matplotlib\n"
     ]
    }
   ],
   "source": [
    "import numpy as np\n",
    "%pylab inline\n",
    "import math as ma\n",
    "import matplotlib.pyplot as plt\n",
    "#JSAnimation import available at https://github.com/jakevdp/JSAnimation\n",
    "#from JSAnimation import IPython_display\n",
    "from matplotlib import animation\n",
    "from scipy import integrate\n",
    "from scipy import optimize"
   ]
  },
  {
   "cell_type": "code",
   "execution_count": 2,
   "metadata": {
    "collapsed": true
   },
   "outputs": [],
   "source": [
    "def fijo(p0,f,g,Tol,Nmax):\n",
    "    i=1\n",
    "    \n",
    "    while i<=Nmax:\n",
    "        p = g(p0)\n",
    "        e= abs(p-p0)\n",
    "        if e < Tol:\n",
    "            print(\"El valor más aproximado es, ya que se alacanzó la tolerancia:\\n i=%f\\t p=%f\\t g(p)=%f \\t f(p)=%f error=%f  \"%(i,p,g(p),f(p),e))\n",
    "            break\n",
    "        i=i+1\n",
    "        p0=p #redefinimos p0"
   ]
  },
  {
   "cell_type": "code",
   "execution_count": null,
   "metadata": {
    "collapsed": true
   },
   "outputs": [],
   "source": [
    "def f(x): #función dada originalmente \n",
    "    return \n",
    "def g(x): #Función necesaria para el método de punto fijo, de la forma g(x)=x\n",
    "    return "
   ]
  }
 ],
 "metadata": {
  "kernelspec": {
   "display_name": "Python 3",
   "language": "python",
   "name": "python3"
  },
  "language_info": {
   "codemirror_mode": {
    "name": "ipython",
    "version": 3
   },
   "file_extension": ".py",
   "mimetype": "text/x-python",
   "name": "python",
   "nbconvert_exporter": "python",
   "pygments_lexer": "ipython3",
   "version": "3.6.0"
  }
 },
 "nbformat": 4,
 "nbformat_minor": 2
}
