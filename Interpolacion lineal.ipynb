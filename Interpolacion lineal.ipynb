{
 "cells": [
  {
   "cell_type": "markdown",
   "metadata": {},
   "source": [
    "## Interpolación lineal"
   ]
  },
  {
   "cell_type": "code",
   "execution_count": 21,
   "metadata": {
    "collapsed": true
   },
   "outputs": [],
   "source": [
    "import numpy as np\n",
    "import matplotlib.pyplot as plt"
   ]
  },
  {
   "cell_type": "markdown",
   "metadata": {
    "collapsed": false
   },
   "source": [
    "#Cargamos los datos sobre los que vamos a trabajar (normalmente estan desordenados)\n",
    "datos = np.loadtxt(\"datos.dat\")\n",
    "#listas desordenadas\n",
    "x_listd=[]\n",
    "y_listd=[]\n",
    "for i in range(0,datos.shape[0]):\n",
    "    x_listd.append(datos[i][0])\n",
    "    y_listd.append(datos[i][1])\n",
    "#print(datos)\n",
    "#ordenamos los datos\n",
    "x_list,y_list=zip(*sorted(zip(x_listd,y_listd)))\n",
    "print(datos.shape) #ver número de datos y columnas de datos"
   ]
  },
  {
   "cell_type": "code",
   "execution_count": 57,
   "metadata": {
    "collapsed": false
   },
   "outputs": [
    {
     "name": "stdout",
     "output_type": "stream",
     "text": [
      "[1.6487212707001282, 2.718281828459045]\n"
     ]
    }
   ],
   "source": [
    "#Sin cargar datos\n",
    "x_list=[]\n",
    "y_list=[]\n",
    "def f(x):\n",
    "    return np.e**x\n",
    "x_list=[0.5,1]\n",
    "for i in range(0,len(x_list)):\n",
    "    y=f(x_list[i])\n",
    "    y_list.append(y)\n",
    "print(y_list)"
   ]
  },
  {
   "cell_type": "code",
   "execution_count": 58,
   "metadata": {
    "collapsed": false
   },
   "outputs": [],
   "source": [
    "def lineal(x_list,y_list,x):\n",
    "    for i in range(0,len(x_list)-1):\n",
    "        if(x>=x_list[i] and x<=x_list[i+1]): #x en determinado intervalo [i,i+1]\n",
    "            x_i = x_list[i] #x_i\n",
    "            y_i = y_list[i] #y_i\n",
    "            x_f = x_list[i+1] #x_i+1\n",
    "            y_f = y_list[i+1] #y_i+1\n",
    "            \n",
    "            y = (y_f - y_i)/(x_f - x_i) * (x - x_i) + y_i\n",
    "            \n",
    "            return y \n",
    "x_interpol = np.linspace(min(x_list),max(x_list),5000) #número de datos \n",
    "y_interpol = []\n",
    "\n",
    "for i in range(0,len(x_interpol)):\n",
    "    y_interpol.append(lineal(x_list,y_list,x_interpol[i]))"
   ]
  },
  {
   "cell_type": "code",
   "execution_count": 61,
   "metadata": {
    "collapsed": false
   },
   "outputs": [
    {
     "data": {
      "image/png": "[encoded data removed]",
      "text/plain": [
       "<matplotlib.figure.Figure at 0x1c9763804a8>"
      ]
     },
     "metadata": {},
     "output_type": "display_data"
    }
   ],
   "source": [
    "#Graficamos\n",
    "fig=plt.figure()\n",
    "ax=plt.axes()\n",
    "ax.plot(x_list,y_list,'*',markersize='10',label='datos discretos')\n",
    "ax.plot(x_interpol,y_interpol,'.',label='puntos interpolados')\n",
    "#ax.plot(x_interpol,np.sin(x_interpol),label='sin(x)')\n",
    "ax.plot(x_interpol,np.e**(x_interpol),label='e^x')\n",
    "ax.legend() #cuadro superior derecho\n",
    "#ax.set_xscale(\"log\") #Graficamos en escala logaritmica \n",
    "plt.show()"
   ]
  },
  {
   "cell_type": "code",
   "execution_count": 60,
   "metadata": {
    "collapsed": false
   },
   "outputs": [
    {
     "name": "stdout",
     "output_type": "stream",
     "text": [
      "2.183501549579587\n",
      "2.117000016612675\n"
     ]
    }
   ],
   "source": [
    "x=0.75\n",
    "print(lineal(x_list,y_list,x))\n",
    "print(f(x))"
   ]
  },
  {
   "cell_type": "code",
   "execution_count": null,
   "metadata": {
    "collapsed": true
   },
   "outputs": [],
   "source": []
  }
 ],
 "metadata": {
  "kernelspec": {
   "display_name": "Python 3",
   "language": "python",
   "name": "python3"
  },
  "language_info": {
   "codemirror_mode": {
    "name": "ipython",
    "version": 3
   },
   "file_extension": ".py",
   "mimetype": "text/x-python",
   "name": "python",
   "nbconvert_exporter": "python",
   "pygments_lexer": "ipython3",
   "version": "3.6.0"
  }
 },
 "nbformat": 4,
 "nbformat_minor": 2
}
