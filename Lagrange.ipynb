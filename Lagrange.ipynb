{
 "cells": [
  {
   "cell_type": "markdown",
   "metadata": {},
   "source": [
    "## Lagrange"
   ]
  },
  {
   "cell_type": "code",
   "execution_count": 1,
   "metadata": {
    "collapsed": true
   },
   "outputs": [],
   "source": [
    "import numpy as np\n",
    "import matplotlib.pyplot as plt"
   ]
  },
  {
   "cell_type": "markdown",
   "metadata": {
    "collapsed": false
   },
   "source": [
    "#Cargamos los datos sobre los que vamos a trabajar (normalmente estan desordenados)\n",
    "datos = np.loadtxt(\"datos.dat\")\n",
    "#listas desordenadas\n",
    "x_listd=[]\n",
    "y_listd=[]\n",
    "for i in range(0,datos.shape[0]):\n",
    "    x_listd.append(datos[i][0])\n",
    "    y_listd.append(datos[i][1])\n",
    "#print(datos)\n",
    "#ordenamos los datos\n",
    "x_list,y_list=zip(*sorted(zip(x_listd,y_listd)))\n",
    "print(datos.shape) #ver número de datos y columnas de datos"
   ]
  },
  {
   "cell_type": "code",
   "execution_count": 47,
   "metadata": {
    "collapsed": false
   },
   "outputs": [
    {
     "name": "stdout",
     "output_type": "stream",
     "text": [
      "[1.0, 2.718281828459045, 7.3890560989306495]\n"
     ]
    }
   ],
   "source": [
    "#Sin cargar datos\n",
    "x_list=[]\n",
    "y_list=[]\n",
    "def f(x):\n",
    "    return (np.e**(2*x))*np.cos(3*x)\n",
    "def f1(x):\n",
    "    return np.e**x\n",
    "x_list=[0,1,2]\n",
    "for i in range(0,len(x_list)):\n",
    "    y=f1(x_list[i])\n",
    "    y_list.append(y)\n",
    "print(y_list)"
   ]
  },
  {
   "cell_type": "code",
   "execution_count": 48,
   "metadata": {
    "collapsed": true
   },
   "outputs": [],
   "source": [
    "def lagrange(x_list,y_list,x):\n",
    "    sum=0\n",
    "    for i in range(0,len(x_list)): #sumatoria\n",
    "        p = 1 \n",
    "        for j in range(0,len(y_list)): #Productoria \n",
    "            if(j!=i): #Condición necesaria para evitar la división por cero\n",
    "                p = p*(x - x_list[j])/(x_list[i] - x_list[j])\n",
    "        sum = sum + y_list[i]*p\n",
    "    return sum \n",
    "\n"
   ]
  },
  {
   "cell_type": "code",
   "execution_count": 26,
   "metadata": {
    "collapsed": true
   },
   "outputs": [],
   "source": [
    "#Calculamos error, siempre y cuando tengamos la función o valor con el cual comparar\n",
    "y_derivado=PolyLagrange(x_list,y_list,0.45)\n",
    "y_exacto=np.log(1+0.45)\n",
    "error=abs((y_derivado-y_exacto)/y_exacto * 5000)\n",
    "#print(\"El error es = %.5f por ciento\"%error)"
   ]
  },
  {
   "cell_type": "code",
   "execution_count": 49,
   "metadata": {
    "collapsed": false
   },
   "outputs": [],
   "source": [
    "x_array=np.linspace(min(x_list),max(x_list),5000) #Arreglo con todos los datos de la lista x_list y la cantidad de datos\n",
    "y_array=[]\n",
    "for i in range(0,len(x_array)):\n",
    "    y_array.append(lagrange(x_list,y_list,x_array[i]))"
   ]
  },
  {
   "cell_type": "code",
   "execution_count": 55,
   "metadata": {
    "collapsed": false
   },
   "outputs": [
    {
     "data": {
      "image/png": "[encoded data removed]",
      "text/plain": [
       "<matplotlib.figure.Figure at 0x150788c6550>"
      ]
     },
     "metadata": {},
     "output_type": "display_data"
    }
   ],
   "source": [
    "#Graficamos\n",
    "fig=plt.figure()\n",
    "ax=plt.axes()\n",
    "ax.plot(x_list,y_list,'*',markersize='10',label='datos discretos')\n",
    "ax.plot(x_array,y_array,'.',label='puntos interpolados')\n",
    "#ax.plot(x_interpol,np.sin(x_interpol),label='sin(x)')\n",
    "ax.plot(x_array,np.e**(x_array),label='e^x')\n",
    "ax.legend() #cuadro superior \n",
    "#ax.set_xscale(\"log\") #Graficamos en escala logaritmica \n",
    "plt.show()"
   ]
  },
  {
   "cell_type": "code",
   "execution_count": 57,
   "metadata": {
    "collapsed": false
   },
   "outputs": [
    {
     "name": "stdout",
     "output_type": "stream",
     "text": [
      "2.0119152049056064\n",
      "2.117000016612675\n"
     ]
    }
   ],
   "source": [
    "x=0.75\n",
    "print(lagrange(x_list,y_list,x))\n",
    "print(f1(x))"
   ]
  },
  {
   "cell_type": "code",
   "execution_count": null,
   "metadata": {
    "collapsed": true
   },
   "outputs": [],
   "source": []
  }
 ],
 "metadata": {
  "kernelspec": {
   "display_name": "Python 3",
   "language": "python",
   "name": "python3"
  },
  "language_info": {
   "codemirror_mode": {
    "name": "ipython",
    "version": 3
   },
   "file_extension": ".py",
   "mimetype": "text/x-python",
   "name": "python",
   "nbconvert_exporter": "python",
   "pygments_lexer": "ipython3",
   "version": "3.6.0"
  }
 },
 "nbformat": 4,
 "nbformat_minor": 2
}
