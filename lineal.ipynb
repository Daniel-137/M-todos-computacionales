{
 "cells": [
  {
   "cell_type": "code",
   "execution_count": 2,
   "metadata": {
    "collapsed": true
   },
   "outputs": [],
   "source": [
    "import numpy as np\n",
    "import matplotlib.pyplot as plt"
   ]
  },
  {
   "cell_type": "code",
   "execution_count": 5,
   "metadata": {
    "collapsed": true
   },
   "outputs": [],
   "source": [
    "\n",
    "datos=np.loadtxt(\"datos.dat\")\n",
    "x_listd=[]\n",
    "y_listd=[]\n",
    "for i in range(0,datos.shape[0]):\n",
    "    x_listd.append(datos[i][0])\n",
    "    y_listd.append(datos[i][1])\n",
    "x_list,y_list = zip(*sorted(zip(x_listd,y_listd)))    \n",
    "\n",
    "def InterpoladorLineal(x_list,y_list,x):\n",
    "    for i in range(0,len(x_list)-1):\n",
    "        if(x>=x_list[i] and x<=x_list[i+1]):\n",
    "            x_prev = x_list[i]   # x_i \n",
    "            y_prev = y_list[i]   # y_i\n",
    "            x_next = x_list[i+1] # x_i+1\n",
    "            y_next = y_list[i+1] # y_i+1\n",
    "            \n",
    "            y = (y_next - y_prev)/(x_next - x_prev) * (x-x_prev) + y_prev\n",
    "            \n",
    "            return y\n",
    "            \n",
    "x_interpol = np.linspace(min(x_list),max(x_list),5000)\n",
    "y_interpol = []\n",
    "\n",
    "for i in range(0,len(x_interpol)):\n",
    "    y_interpol.append(InterpoladorLineal(x_list,y_list,x_interpol[i]))"
   ]
  },
  {
   "cell_type": "code",
   "execution_count": 4,
   "metadata": {
    "collapsed": false
   },
   "outputs": [
    {
     "name": "stdout",
     "output_type": "stream",
     "text": [
      "2\n"
     ]
    }
   ],
   "source": [
    "print(datos.shape[1])"
   ]
  },
  {
   "cell_type": "code",
   "execution_count": 20,
   "metadata": {
    "collapsed": false
   },
   "outputs": [
    {
     "data": {
      "image/png": "[encoded data removed]",
      "text/plain": [
       "<Figure size 432x288 with 1 Axes>"
      ]
     },
     "metadata": {
      "needs_background": "light"
     },
     "output_type": "display_data"
    }
   ],
   "source": [
    "fig=plt.figure()\n",
    "ax=plt.axes()\n",
    "ax.plot(x_list,y_list,'*',markersize='10',label='datos discretos')\n",
    "ax.plot(x_interpol,y_interpol,'.',label='puntos interpolados')\n",
    "#ax.plot(x_interpol,np.sin(x_interpol),label='sin(x)')\n",
    "ax.legend()\n",
    "ax.set_xscale(\"log\")\n",
    "plt.show()"
   ]
  },
  {
   "cell_type": "code",
   "execution_count": null,
   "metadata": {
    "collapsed": true
   },
   "outputs": [],
   "source": []
  }
 ],
 "metadata": {
  "kernelspec": {
   "display_name": "Python 3",
   "language": "python",
   "name": "python3"
  },
  "language_info": {
   "codemirror_mode": {
    "name": "ipython",
    "version": 3
   },
   "file_extension": ".py",
   "mimetype": "text/x-python",
   "name": "python",
   "nbconvert_exporter": "python",
   "pygments_lexer": "ipython3",
   "version": "3.6.0"
  }
 },
 "nbformat": 4,
 "nbformat_minor": 2
}
