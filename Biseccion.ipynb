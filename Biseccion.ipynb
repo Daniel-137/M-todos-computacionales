{
 "cells": [
  {
   "cell_type": "markdown",
   "metadata": {},
   "source": [
    "## Método de bisección \n"
   ]
  },
  {
   "cell_type": "code",
   "execution_count": 62,
   "metadata": {
    "collapsed": false
   },
   "outputs": [
    {
     "name": "stdout",
     "output_type": "stream",
     "text": [
      "Populating the interactive namespace from numpy and matplotlib\n"
     ]
    },
    {
     "name": "stderr",
     "output_type": "stream",
     "text": [
      "C:\\Anaconda\\lib\\site-packages\\IPython\\core\\magics\\pylab.py:161: UserWarning: pylab import has clobbered these variables: ['cm']\n",
      "`%matplotlib` prevents importing * from pylab and numpy\n",
      "  \"\\n`%matplotlib` prevents importing * from pylab and numpy\"\n"
     ]
    }
   ],
   "source": [
    "import numpy as np\n",
    "%pylab inline\n",
    "import math as ma\n",
    "import matplotlib.pyplot as plt\n",
    "#JSAnimation import available at https://github.com/jakevdp/JSAnimation\n",
    "#from JSAnimation import IPython_display\n",
    "from matplotlib import animation\n",
    "from scipy import integrate\n",
    "from scipy import optimize"
   ]
  },
  {
   "cell_type": "markdown",
   "metadata": {},
   "source": [
    "1) select number in an interval $p$ $\\epsilon$ $[a,b]$ such that $f(p) = 0$, in other words, that $f(a)*f(b) < 0$, application of the intermediate value theorem. We must know the interval where the root is\n",
    "\n",
    "2) Let $a_1 = a$  and  $b_1 = b$ \n",
    "\n",
    "3) Calculate the midpoint $p_1 = a_1 + $ $\\frac{b_1 - a_1}{2}$\n",
    "\n",
    "4) Maximum number of iterations while n = Nmax"
   ]
  },
  {
   "cell_type": "code",
   "execution_count": 40,
   "metadata": {
    "collapsed": false
   },
   "outputs": [],
   "source": [
    "#Definir la función: \n",
    "\n",
    "def f(x):\n",
    "    return x**3 - 2 \n",
    "def f1(x):\n",
    "    return 2-x+3*np.sin(x)\n",
    "def f2(x):\n",
    "    return (x**2)*np.cos(2*x)\n",
    "def f3(x):\n",
    "    return np.sqrt(x) - np.cos(x)\n"
   ]
  },
  {
   "cell_type": "markdown",
   "metadata": {},
   "source": [
    "Un abrevaderos de longitud L, radio r, de forma cilíndrica, semicircular(medio cilindro), cuando se llena hasta cirta altura x el volumen es: "
   ]
  },
  {
   "cell_type": "code",
   "execution_count": 87,
   "metadata": {
    "collapsed": false
   },
   "outputs": [
    {
     "data": {
      "text/plain": [
       "36.74802533883013"
      ]
     },
     "execution_count": 87,
     "metadata": {},
     "output_type": "execute_result"
    }
   ],
   "source": [
    "def asin(x):\n",
    "    return ma.asin(x)\n",
    "def f4(x):\n",
    "    l=10 #pies\n",
    "    r=1 #pie\n",
    "    v=12.4 #pies cubicos\n",
    "    return l*(0.5*(np.pi**2)*(r**2) -(r**2)*ma.asin(x/r) - x*((r**2 - x**2)**0.5)) - v\n",
    "f4(0.01)"
   ]
  },
  {
   "cell_type": "code",
   "execution_count": 91,
   "metadata": {
    "collapsed": false
   },
   "outputs": [
    {
     "data": {
      "text/plain": [
       "2.718281828459045"
      ]
     },
     "execution_count": 91,
     "metadata": {},
     "output_type": "execute_result"
    }
   ],
   "source": [
    "np.e"
   ]
  },
  {
   "cell_type": "markdown",
   "metadata": {},
   "source": [
    "Particula parte del reposo en un plano inclinado"
   ]
  },
  {
   "cell_type": "code",
   "execution_count": 95,
   "metadata": {
    "collapsed": false
   },
   "outputs": [],
   "source": [
    "def f5(x):\n",
    "    t=1 #segundos\n",
    "    d = 1.7 #pies\n",
    "    g=32.17 #pies/s**2\n",
    "    return -g/(2*(x**2))*(0.5*(np.e**(x*t) - np.e**(-x*t)) - np.sin(x*t)) - d"
   ]
  },
  {
   "cell_type": "code",
   "execution_count": 96,
   "metadata": {
    "collapsed": false
   },
   "outputs": [
    {
     "data": {
      "image/png": "[encoded data removed]",
      "text/plain": [
       "<matplotlib.figure.Figure at 0x1d9fcd01f28>"
      ]
     },
     "metadata": {},
     "output_type": "display_data"
    }
   ],
   "source": [
    "x=np.arange(-1,1,0.1)\n",
    "#Graficar función \n",
    "y=f5(x)\n",
    "plt.grid()\n",
    "plt.plot(x,y)\n",
    "\n",
    "plt.show\n",
    "#Definir intervalo\n",
    "a=2\n",
    "b=3"
   ]
  },
  {
   "cell_type": "code",
   "execution_count": 66,
   "metadata": {
    "collapsed": false
   },
   "outputs": [
    {
     "data": {
      "text/plain": [
       "0"
      ]
     },
     "execution_count": 66,
     "metadata": {},
     "output_type": "execute_result"
    }
   ],
   "source": [
    "def signo(a):\n",
    "    if a>0:\n",
    "        return 1\n",
    "    elif a==0:\n",
    "        return 0\n",
    "    elif a<0:\n",
    "        return -1\n",
    "signo(-3*0)"
   ]
  },
  {
   "cell_type": "code",
   "execution_count": 101,
   "metadata": {
    "collapsed": false
   },
   "outputs": [],
   "source": [
    "def bisection(a,b,TOL,f,Nmax):\n",
    "    if (signo(f(a))*signo(f(b)))<=0:\n",
    "        i=1\n",
    "        ai=a\n",
    "        bi=b\n",
    "        e=1.0 #error inicial\n",
    "        #while(i<=Nmax):\n",
    "        while(i<=Nmax):\n",
    "            pi = ai + (bi-ai)*0.5\n",
    "            p_i = pi\n",
    "            \n",
    "            if signo(f(ai))*signo(f(pi))<0:\n",
    "                ai=ai \n",
    "                bi=pi  \n",
    "            elif signo(f(ai))*signo(f(pi))>0:\n",
    "                ai=pi\n",
    "                bi=bi   \n",
    "            pi = ai + (bi-ai)*0.5 #actualizamos punto medio pi\n",
    "            #e = abs(pi-p_i)/abs(pi) #cualculamos error\n",
    "            e = abs(pi-p_i)\n",
    "            if f(pi)==0 or e<Tol:\n",
    "                print(\"El valor más aproximado es, ya que se alacanzó la tolerancia:\\n i=%f\\t p=%f\\t f(p)=%f \\t error=%f  \"%(i,pi,f(pi),e))\n",
    "                break\n",
    "            print(\"i=%f\\t pi=%f\\t ai=%f\\t bi=%f\\t f(pi)=%f \\t error=%f\"%(i,pi,ai,bi,f(pi),e))\n",
    "            i=i+1 #aumentamos contador\n",
    "    else:\n",
    "        print(\"El intervalo elegido es erroneo, no cumple el teorema del valor intermedio\")"
   ]
  },
  {
   "cell_type": "code",
   "execution_count": 104,
   "metadata": {
    "collapsed": false
   },
   "outputs": [
    {
     "name": "stdout",
     "output_type": "stream",
     "text": [
      "i=1.000000\t pi=-0.125000\t ai=-0.500000\t bi=0.250000\t f(pi)=-1.029791 \t error=0.375000\n",
      "i=2.000000\t pi=-0.312500\t ai=-0.500000\t bi=-0.125000\t f(pi)=-0.024460 \t error=0.187500\n",
      "i=3.000000\t pi=-0.406250\t ai=-0.500000\t bi=-0.312500\t f(pi)=0.478248 \t error=0.093750\n",
      "i=4.000000\t pi=-0.359375\t ai=-0.406250\t bi=-0.312500\t f(pi)=0.226887 \t error=0.046875\n",
      "i=5.000000\t pi=-0.335938\t ai=-0.359375\t bi=-0.312500\t f(pi)=0.101212 \t error=0.023438\n",
      "i=6.000000\t pi=-0.324219\t ai=-0.335938\t bi=-0.312500\t f(pi)=0.038376 \t error=0.011719\n",
      "i=7.000000\t pi=-0.318359\t ai=-0.324219\t bi=-0.312500\t f(pi)=0.006958 \t error=0.005859\n",
      "i=8.000000\t pi=-0.315430\t ai=-0.318359\t bi=-0.312500\t f(pi)=-0.008751 \t error=0.002930\n",
      "i=9.000000\t pi=-0.316895\t ai=-0.318359\t bi=-0.315430\t f(pi)=-0.000897 \t error=0.001465\n",
      "i=10.000000\t pi=-0.317627\t ai=-0.318359\t bi=-0.316895\t f(pi)=0.003030 \t error=0.000732\n",
      "i=11.000000\t pi=-0.317261\t ai=-0.317627\t bi=-0.316895\t f(pi)=0.001067 \t error=0.000366\n",
      "i=12.000000\t pi=-0.317078\t ai=-0.317261\t bi=-0.316895\t f(pi)=0.000085 \t error=0.000183\n",
      "i=13.000000\t pi=-0.316986\t ai=-0.317078\t bi=-0.316895\t f(pi)=-0.000406 \t error=0.000092\n",
      "i=14.000000\t pi=-0.317032\t ai=-0.317078\t bi=-0.316986\t f(pi)=-0.000160 \t error=0.000046\n",
      "i=15.000000\t pi=-0.317055\t ai=-0.317078\t bi=-0.317032\t f(pi)=-0.000038 \t error=0.000023\n",
      "i=16.000000\t pi=-0.317066\t ai=-0.317078\t bi=-0.317055\t f(pi)=0.000024 \t error=0.000011\n",
      "El valor más aproximado es, ya que se alacanzó la tolerancia:\n",
      " i=17.000000\t p=-0.317060\t f(p)=-0.000007 \t error=0.000006  \n"
     ]
    }
   ],
   "source": [
    "a=-0.5\n",
    "b=1\n",
    "Tol=0.00001\n",
    "Nmax=20\n",
    "bisection(a,b,Tol,f5,Nmax)"
   ]
  },
  {
   "cell_type": "code",
   "execution_count": null,
   "metadata": {
    "collapsed": true
   },
   "outputs": [],
   "source": []
  }
 ],
 "metadata": {
  "kernelspec": {
   "display_name": "Python 3",
   "language": "python",
   "name": "python3"
  },
  "language_info": {
   "codemirror_mode": {
    "name": "ipython",
    "version": 3
   },
   "file_extension": ".py",
   "mimetype": "text/x-python",
   "name": "python",
   "nbconvert_exporter": "python",
   "pygments_lexer": "ipython3",
   "version": "3.6.0"
  }
 },
 "nbformat": 4,
 "nbformat_minor": 2
}
