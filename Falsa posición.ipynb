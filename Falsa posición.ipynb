{
 "cells": [
  {
   "cell_type": "markdown",
   "metadata": {
    "collapsed": true
   },
   "source": [
    "## Falsa posición"
   ]
  },
  {
   "cell_type": "code",
   "execution_count": 4,
   "metadata": {
    "collapsed": false
   },
   "outputs": [
    {
     "name": "stdout",
     "output_type": "stream",
     "text": [
      "Populating the interactive namespace from numpy and matplotlib\n"
     ]
    }
   ],
   "source": [
    "import numpy as np\n",
    "%pylab inline\n",
    "import matplotlib.pyplot as plt\n",
    "#JSAnimation import available at https://github.com/jakevdp/JSAnimation\n",
    "#from JSAnimation import IPython_display\n",
    "from matplotlib import animation\n",
    "from scipy import integrate\n",
    "from scipy import optimize\n"
   ]
  },
  {
   "cell_type": "code",
   "execution_count": 40,
   "metadata": {
    "collapsed": false
   },
   "outputs": [],
   "source": [
    "def falsa(p0,p1,f,Tol,Nmax):\n",
    "    i=1\n",
    "    q0=f(p0)\n",
    "    q1=f(p1)\n",
    "    while i<=Nmax:\n",
    "        p = p1 - q1*(p1-p0)/(q1-q0)\n",
    "        #e= abs(p-p1)/abs(p)\n",
    "        e= abs(p-p1)\n",
    "        print(\"i=%f\\t pi=%f\\t ai=%f\\t bi=%f\\t f(pi)=%f \\t error=%f\"%(i,p,p1,p0,f(p),e))\n",
    "        if e<Tol:\n",
    "            break\n",
    "        q=f(p)\n",
    "        if q*q1<0:\n",
    "            p0=p1\n",
    "            q0=q\n",
    "        elif q*q1>0:\n",
    "            p1=p\n",
    "            q1=q\n",
    "        print\n",
    "        i=i+1\n",
    "    "
   ]
  },
  {
   "cell_type": "code",
   "execution_count": 28,
   "metadata": {
    "collapsed": true
   },
   "outputs": [],
   "source": [
    "def f(x):\n",
    "    return np.cos(x) - x"
   ]
  },
  {
   "cell_type": "code",
   "execution_count": 29,
   "metadata": {
    "collapsed": true
   },
   "outputs": [],
   "source": [
    "def f1(x):\n",
    "    return x**2 - 6"
   ]
  },
  {
   "cell_type": "code",
   "execution_count": 49,
   "metadata": {
    "collapsed": false
   },
   "outputs": [
    {
     "data": {
      "text/plain": [
       "<function matplotlib.pyplot.show>"
      ]
     },
     "execution_count": 49,
     "metadata": {},
     "output_type": "execute_result"
    },
    {
     "data": {
      "image/png": "[encoded data removed]",
      "text/plain": [
       "<matplotlib.figure.Figure at 0x243b1b0e128>"
      ]
     },
     "metadata": {},
     "output_type": "display_data"
    }
   ],
   "source": [
    "x=np.arange(-5,5,0.1)\n",
    "y=f(x)\n",
    "plt.grid()\n",
    "plt.plot(x,y)\n",
    "plt.show\n"
   ]
  },
  {
   "cell_type": "code",
   "execution_count": 51,
   "metadata": {
    "collapsed": false
   },
   "outputs": [
    {
     "name": "stdout",
     "output_type": "stream",
     "text": [
      "i=1.000000\t pi=-4.000000\t ai=1.000000\t bi=-2.000000\t f(pi)=10.000000 \t error=5.000000\n",
      "i=2.000000\t pi=1.000000\t ai=1.000000\t bi=1.000000\t f(pi)=-5.000000 \t error=0.000000\n"
     ]
    }
   ],
   "source": [
    "p0 = -2\n",
    "p1 = 1\n",
    "\n",
    "Tol = 0.00001\n",
    "Nmax=10\n",
    "falsa(p0,p1,f1,Tol,Nmax)"
   ]
  },
  {
   "cell_type": "code",
   "execution_count": null,
   "metadata": {
    "collapsed": true
   },
   "outputs": [],
   "source": []
  }
 ],
 "metadata": {
  "kernelspec": {
   "display_name": "Python 3",
   "language": "python",
   "name": "python3"
  },
  "language_info": {
   "codemirror_mode": {
    "name": "ipython",
    "version": 3
   },
   "file_extension": ".py",
   "mimetype": "text/x-python",
   "name": "python",
   "nbconvert_exporter": "python",
   "pygments_lexer": "ipython3",
   "version": "3.6.0"
  }
 },
 "nbformat": 4,
 "nbformat_minor": 2
}
