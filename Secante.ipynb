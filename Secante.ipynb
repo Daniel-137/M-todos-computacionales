{
 "cells": [
  {
   "cell_type": "code",
   "execution_count": 1,
   "metadata": {
    "collapsed": false
   },
   "outputs": [
    {
     "name": "stdout",
     "output_type": "stream",
     "text": [
      "Populating the interactive namespace from numpy and matplotlib\n"
     ]
    }
   ],
   "source": [
    "import numpy as np\n",
    "%pylab inline\n",
    "import matplotlib.pyplot as plt\n",
    "#JSAnimation import available at https://github.com/jakevdp/JSAnimation\n",
    "#from JSAnimation import IPython_display\n",
    "from matplotlib import animation\n",
    "from scipy import integrate\n",
    "from scipy import optimize"
   ]
  },
  {
   "cell_type": "code",
   "execution_count": 33,
   "metadata": {
    "collapsed": true
   },
   "outputs": [],
   "source": [
    "def secante(p0,p1,f,Tol,Nmax):\n",
    "    i=1\n",
    "    q0=f(p0)\n",
    "    q1=f(p1)\n",
    "    while i<=Nmax:\n",
    "        p = p1 - q1*(p1-p0)/(q1-q0)\n",
    "        e = abs(p-p1)/abs(p)\n",
    "        if e<Tol:\n",
    "            print(\"El valor más aproximado es, ya que se alacanzó la tolerancia:\\n i=%f\\t p=%f\\t f(p)=%f \\t error=%f  \"%(i-1,p,f(p),e))\n",
    "            break\n",
    "        i=i+1\n",
    "        #redefinimos\n",
    "        print(\"i=%f\\t pi=%f\\t ai=%f\\t bi=%f\\t f(pi)=%f \\t error=%f\"%(i-1,p,p0,p1,f(p),e))\n",
    "        p0=p1\n",
    "        q0=q1\n",
    "        p1=p\n",
    "        q1=f(p)\n",
    "        "
   ]
  },
  {
   "cell_type": "code",
   "execution_count": 3,
   "metadata": {
    "collapsed": true
   },
   "outputs": [],
   "source": [
    "def f(x):\n",
    "    return x**2 - 6"
   ]
  },
  {
   "cell_type": "code",
   "execution_count": 30,
   "metadata": {
    "collapsed": false
   },
   "outputs": [
    {
     "data": {
      "image/png": "[encoded data removed]",
      "text/plain": [
       "<matplotlib.figure.Figure at 0x2881ae2ce10>"
      ]
     },
     "metadata": {},
     "output_type": "display_data"
    }
   ],
   "source": [
    "x=np.arange(-5,5,0.1)\n",
    "y=f(x)\n",
    "plt.grid()\n",
    "plt.plot(x,y)\n",
    "plt.show()"
   ]
  },
  {
   "cell_type": "code",
   "execution_count": 34,
   "metadata": {
    "collapsed": false
   },
   "outputs": [
    {
     "name": "stdout",
     "output_type": "stream",
     "text": [
      "i=1.000000\t pi=2.000000\t ai=0.000000\t bi=3.000000\t f(pi)=-2.000000 \t error=0.500000\n",
      "i=2.000000\t pi=2.400000\t ai=3.000000\t bi=2.000000\t f(pi)=-0.240000 \t error=0.166667\n",
      "i=3.000000\t pi=2.454545\t ai=2.000000\t bi=2.400000\t f(pi)=0.024793 \t error=0.022222\n",
      "i=4.000000\t pi=2.449438\t ai=2.400000\t bi=2.454545\t f(pi)=-0.000252 \t error=0.002085\n",
      "i=5.000000\t pi=2.449490\t ai=2.454545\t bi=2.449438\t f(pi)=-0.000000 \t error=0.000021\n",
      "El valor más aproximado es, ya que se alacanzó la tolerancia:\n",
      " i=5.000000\t p=2.449490\t f(p)=0.000000 \t error=0.000000  \n"
     ]
    }
   ],
   "source": [
    "p0=0.\n",
    "p1=3\n",
    "Tol=0.000001\n",
    "Nmax=10\n",
    "secante(p0,p1,f,Tol,Nmax)"
   ]
  },
  {
   "cell_type": "code",
   "execution_count": null,
   "metadata": {
    "collapsed": true
   },
   "outputs": [],
   "source": []
  }
 ],
 "metadata": {
  "kernelspec": {
   "display_name": "Python 3",
   "language": "python",
   "name": "python3"
  },
  "language_info": {
   "codemirror_mode": {
    "name": "ipython",
    "version": 3
   },
   "file_extension": ".py",
   "mimetype": "text/x-python",
   "name": "python",
   "nbconvert_exporter": "python",
   "pygments_lexer": "ipython3",
   "version": "3.6.0"
  }
 },
 "nbformat": 4,
 "nbformat_minor": 2
}
