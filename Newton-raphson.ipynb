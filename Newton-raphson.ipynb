{
 "cells": [
  {
   "cell_type": "markdown",
   "metadata": {},
   "source": [
    "## Newton-Raphson"
   ]
  },
  {
   "cell_type": "code",
   "execution_count": 1,
   "metadata": {
    "collapsed": false
   },
   "outputs": [
    {
     "name": "stdout",
     "output_type": "stream",
     "text": [
      "Populating the interactive namespace from numpy and matplotlib\n"
     ]
    }
   ],
   "source": [
    "import numpy as np\n",
    "%pylab inline\n",
    "import matplotlib.pyplot as plt\n",
    "#JSAnimation import available at https://github.com/jakevdp/JSAnimation\n",
    "#from JSAnimation import IPython_display\n",
    "from matplotlib import animation\n",
    "from scipy import integrate\n",
    "from scipy import optimize"
   ]
  },
  {
   "cell_type": "code",
   "execution_count": 32,
   "metadata": {
    "collapsed": false
   },
   "outputs": [],
   "source": [
    "def Newton(p0,f,df,Tol,Nmax):\n",
    "    i=1\n",
    "    while i<=Nmax:\n",
    "        p = p0 - f(p0)/df(p0)\n",
    "        e = abs(p-p0)/abs(p)\n",
    "        if e<Tol:\n",
    "            print(\"El valor más aproximado es, ya que se alacanzó la tolerancia:\\n i=%f\\t p=%f\\t f(p)=%f \\t error=%f  \"%(i,p,f(p),e))\n",
    "            break\n",
    "        print(\"i=%f\\t p=%f\\t  f(p)=%f \\t error=%f\"%(i,p,f(p),e))\n",
    "        i=i+1\n",
    "        p0=p\n",
    "        \n",
    "        \n",
    "        "
   ]
  },
  {
   "cell_type": "code",
   "execution_count": 4,
   "metadata": {
    "collapsed": true
   },
   "outputs": [],
   "source": [
    "def f(x):\n",
    "    return x**2 - 6\n",
    "def df(x):\n",
    "    return 2*x"
   ]
  },
  {
   "cell_type": "code",
   "execution_count": 5,
   "metadata": {
    "collapsed": false
   },
   "outputs": [
    {
     "data": {
      "image/png": "[encoded data removed]",
      "text/plain": [
       "<matplotlib.figure.Figure at 0x183521f14e0>"
      ]
     },
     "metadata": {},
     "output_type": "display_data"
    }
   ],
   "source": [
    "x=np.arange(-10,10,0.1)\n",
    "y=f(x)\n",
    "plt.grid()\n",
    "plt.plot(x,y)\n",
    "plt.show()"
   ]
  },
  {
   "cell_type": "code",
   "execution_count": 31,
   "metadata": {
    "collapsed": false
   },
   "outputs": [
    {
     "name": "stdout",
     "output_type": "stream",
     "text": [
      "i=1.000000\t p=3.500000\t  f(p)=6.250000 \t error=0.714286\n",
      "i=2.000000\t p=2.607143\t  f(p)=0.797194 \t error=0.342466\n",
      "i=3.000000\t p=2.454256\t  f(p)=0.023374 \t error=0.062294\n",
      "i=4.000000\t p=2.449494\t  f(p)=0.000023 \t error=0.001944\n",
      "i=5.000000\t p=2.449490\t  f(p)=0.000000 \t error=0.000002\n",
      "El valor más aproximado es:\n",
      " i=6.000000\t p=2.449490\t f(p)=-0.000000 \t error=0.000000  \n"
     ]
    }
   ],
   "source": [
    "p0=1\n",
    "Tol=0.000001\n",
    "Nmax=10\n",
    "Newton(p0,f,df,Tol,Nmax)"
   ]
  },
  {
   "cell_type": "code",
   "execution_count": null,
   "metadata": {
    "collapsed": true
   },
   "outputs": [],
   "source": []
  },
  {
   "cell_type": "code",
   "execution_count": 23,
   "metadata": {
    "collapsed": false
   },
   "outputs": [
    {
     "data": {
      "text/plain": [
       "2.449489742783178"
      ]
     },
     "execution_count": 23,
     "metadata": {},
     "output_type": "execute_result"
    }
   ],
   "source": [
    "6**0.5"
   ]
  },
  {
   "cell_type": "code",
   "execution_count": null,
   "metadata": {
    "collapsed": true
   },
   "outputs": [],
   "source": []
  }
 ],
 "metadata": {
  "kernelspec": {
   "display_name": "Python 3",
   "language": "python",
   "name": "python3"
  },
  "language_info": {
   "codemirror_mode": {
    "name": "ipython",
    "version": 3
   },
   "file_extension": ".py",
   "mimetype": "text/x-python",
   "name": "python",
   "nbconvert_exporter": "python",
   "pygments_lexer": "ipython3",
   "version": "3.6.0"
  }
 },
 "nbformat": 4,
 "nbformat_minor": 2
}
